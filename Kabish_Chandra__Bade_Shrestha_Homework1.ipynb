{
  "nbformat": 4,
  "nbformat_minor": 0,
  "metadata": {
    "colab": {
      "name": "Kabish Chandra_ Bade Shrestha_Homework1.ipynb",
      "provenance": [],
      "collapsed_sections": []
    },
    "kernelspec": {
      "name": "python3",
      "display_name": "Python 3"
    }
  },
  "cells": [
    {
      "cell_type": "markdown",
      "metadata": {
        "id": "hm8RAKinXsIP"
      },
      "source": [
        "## **Homework 1**\n",
        "\n",
        "### Create a copy of the notebook to start answering the questions. Name your notebook in the format HW1_lastname_firstname.ipynb to facilitate the grading process. \n",
        "\n",
        "### Answer all the questions, test your code to ensure there are no errors and the results are as expected. Once you have answered all the questions, save the final copy, then go to File-> click on Download.ipynb. Once the local copy has been downloaded, submit your file on Blackboard under the corresponding assignment section. Also provide us a link to your notebook during submission. \n",
        "\n",
        "### **The due date of this homework is 02/05/2021 (Friday).**\n",
        "\n",
        "### Please ensure you follow all the steps mentioned in the homework.\n",
        "\n",
        "### All the questions have a sample input and output to help you understand the question. Please note that your programs will be tested for other sets of inputs and outputs along with the sample provided. So test your code for other inputs.\n",
        "\n",
        "### You can submit your solutions any number of times until the deadline.\n"
      ]
    },
    {
      "cell_type": "markdown",
      "metadata": {
        "id": "uacFrEaZfcfq"
      },
      "source": [
        "##### Q1. Write a program that prompts the user to enter a password then prints the length of the password.\n",
        "\n",
        "```\n",
        "Enter your password: hello\n",
        "Your password is 5 long.\n",
        "```\n",
        "\n",
        "\n"
      ]
    },
    {
      "cell_type": "code",
      "metadata": {
        "id": "avPyES14ftCt",
        "colab": {
          "base_uri": "https://localhost:8080/"
        },
        "outputId": "30a76530-e6ca-4ef4-d096-88ce74d9edbf"
      },
      "source": [
        "password = input(\"Enter your password: \")\r\n",
        "print(\"Your password is\",len(password),\"long.\")"
      ],
      "execution_count": 1,
      "outputs": [
        {
          "output_type": "stream",
          "text": [
            "Enter your password: hwkkiii\n",
            "Your password is 7 long.\n"
          ],
          "name": "stdout"
        }
      ]
    },
    {
      "cell_type": "markdown",
      "metadata": {
        "id": "ekh-kABuItli"
      },
      "source": [
        ""
      ]
    },
    {
      "cell_type": "markdown",
      "metadata": {
        "id": "K1yko-xUItU3"
      },
      "source": [
        ""
      ]
    },
    {
      "cell_type": "markdown",
      "metadata": {
        "id": "behD0j_Of2TW"
      },
      "source": [
        "##### Q2. Write a program that prompts the user to enter their full name then prints the number of characters in their name (do not count spaces).\n",
        "\n",
        "```\n",
        "What is your name? Amulya Katti\n",
        "Amulya Katti your name has 11 characters.\n",
        "```"
      ]
    },
    {
      "cell_type": "code",
      "metadata": {
        "id": "ESyfvu6PYzkC"
      },
      "source": [
        ""
      ],
      "execution_count": null,
      "outputs": []
    },
    {
      "cell_type": "code",
      "metadata": {
        "id": "XSdIRjwlhSlu",
        "colab": {
          "base_uri": "https://localhost:8080/"
        },
        "outputId": "6512ba5c-2dff-438c-b511-07d58ebad55e"
      },
      "source": [
        "name = input(\"What is your name? \")\r\n",
        "characters = len(name) - name.count(\" \")\r\n",
        "print(name, \"your name has\", characters,\"characters.\")"
      ],
      "execution_count": 5,
      "outputs": [
        {
          "output_type": "stream",
          "text": [
            "What is your name? Ka Ka ka Ka\n",
            "Ka Ka ka Ka your name has 8 characters.\n"
          ],
          "name": "stdout"
        }
      ]
    },
    {
      "cell_type": "markdown",
      "metadata": {
        "id": "5KHOWF6FhVHV"
      },
      "source": [
        "##### Q3. Write a program that prompts the user to enter a month (as a number), then prints the name of the month and the number of days in that month. Ensure that the user inputs a valid month and handle any error cases.\n",
        "\n",
        "```\n",
        "Enter the month number: 9\n",
        "September has 30 days\n",
        "```"
      ]
    },
    {
      "cell_type": "code",
      "metadata": {
        "id": "KhS-SAEThyTG",
        "colab": {
          "base_uri": "https://localhost:8080/"
        },
        "outputId": "ada06117-7d4a-46c9-f10d-c47c851b79e9"
      },
      "source": [
        "noOfMonth = int(input(\"Enter the month number: \"))\r\n",
        "if  noOfMonth== 1:\r\n",
        "        month = \"January\"\r\n",
        "        days =(\"31\")\r\n",
        "        print( month, \"has\", days, \"days.\")\r\n",
        "elif noOfMonth == 2:\r\n",
        "      month = \"February\"\r\n",
        "      days = (\"28 or 29\")\r\n",
        "      print( month, \"has\", days, \"days, depending on leap years.\")\r\n",
        "elif noOfMonth == 3:\r\n",
        "      month = \"March\"\r\n",
        "      days =(\"31\")\r\n",
        "      print( month, \"has\", days, \"days.\")\r\n",
        "elif noOfMonth == 4:\r\n",
        "      month = \"April\"\r\n",
        "      days =(\"30\")\r\n",
        "      print( month, \"has\", days, \"days.\")\r\n",
        "elif noOfMonth == 5:\r\n",
        "      month = \"May\"\r\n",
        "      days =(\"31\")\r\n",
        "      print( month, \"has\", days, \"days.\")\r\n",
        "elif noOfMonth == 6:\r\n",
        "      month = \"June\"\r\n",
        "      days =(\"30\")\r\n",
        "      print( month, \"has\", days, \"days.\")\r\n",
        "elif noOfMonth == 7:\r\n",
        "      month = \"July\"\r\n",
        "      days = (\"31\")\r\n",
        "      print( month, \"has\", days, \"days.\")\r\n",
        "elif noOfMonth == 8:\r\n",
        "      month = \"August\"\r\n",
        "      days =(\"31\")\r\n",
        "      print( month, \"has\", days, \"days.\")\r\n",
        "elif noOfMonth == 9:\r\n",
        "      month = \"September\"\r\n",
        "      days = (\"30\")\r\n",
        "      print( month, \"has\", days, \"days.\")\r\n",
        "elif noOfMonth == 10:\r\n",
        "      month = \"October\"\r\n",
        "      days = (\"31\")\r\n",
        "      print( month, \"has\", days, \"days.\")\r\n",
        "elif noOfMonth == 11:\r\n",
        "      month = \"November\"\r\n",
        "      days =(\"30\")\r\n",
        "      print( month, \"has\", days, \"days.\")\r\n",
        "elif noOfMonth == 12:\r\n",
        "      month = \"December\"\r\n",
        "      days = (\"31\")\r\n",
        "      print( month, \"has\", days, \"days.\")\r\n",
        "else:\r\n",
        "      print(\"Please enter a valid month.\")\r\n"
      ],
      "execution_count": 185,
      "outputs": [
        {
          "output_type": "stream",
          "text": [
            "Enter the month number: 3\n",
            "March has 31 days.\n"
          ],
          "name": "stdout"
        }
      ]
    },
    {
      "cell_type": "markdown",
      "metadata": {
        "id": "O7lnAdGlh6Xa"
      },
      "source": [
        "##### Q4. Write a program that prompts the user to enter a loan amount, annual interest rate, and number of years  for a car loan. Then calculate and print the monthly payment amount.\n",
        "\n",
        "Note:\n",
        "```\n",
        "PMT= [PV*i*((1+i)^n)]/[((1+i)^n)-1]\n",
        "```\n",
        "PMT is the monthly payment\n",
        "\n",
        "PV is the loan amount\n",
        "\n",
        "i is the interest rate per month in decimal form (interest rate percentage divided by 12)\n",
        "\n",
        "n is the number of months (term of the loan in months)\n",
        "\n",
        "```\n",
        "Loan Amount: 30000.00\n",
        "Annual Interest Rate: 4.00\n",
        "Years: 5\n",
        "Your monthly payment is: $552.50\n",
        "```"
      ]
    },
    {
      "cell_type": "code",
      "metadata": {
        "id": "p4B5JH5GiTs9",
        "colab": {
          "base_uri": "https://localhost:8080/"
        },
        "outputId": "8a30b599-c4c1-40b9-a32e-5eb8296e693d"
      },
      "source": [
        "principal = float(input(\"Enter the Loan Amount: \"))\r\n",
        "interestRate = float(input(\"Enter the Annual Interest Rate: \"))\r\n",
        "years = int(input(\"Enter No. of Years: \")) \r\n",
        "n = years*12\r\n",
        "r = interestRate/(100*12)\r\n",
        "monthly_payment = principal*((r*((r+1)**n))/(((r+1)**n)-1)) \r\n",
        "\r\n",
        "print(\"\\nHere are your calculations. Have a great day!\")\r\n",
        "print(\"\\nLoan Amount: \",format(principal, \"5.2f\"))\r\n",
        "print(\"Annual Interest Rate: \",format(interestRate, \".2f\"))\r\n",
        "print(\"Years: \", years)\r\n",
        "print(\"Your monthly patment is: $\",format(monthly_payment, \".2f\"))\r\n"
      ],
      "execution_count": 238,
      "outputs": [
        {
          "output_type": "stream",
          "text": [
            "Enter the Loan Amount: 30000\n",
            "Enter the Annual Interest Rate: 4\n",
            "Enter No. of Years: 5\n",
            "\n",
            "Here are your calculations. Have a great day!\n",
            "\n",
            "Loan Amount:  30000.00\n",
            "Annual Interest Rate:  4.00\n",
            "Years:  5\n",
            "Your monthly patment is: $ 552.50\n"
          ],
          "name": "stdout"
        }
      ]
    },
    {
      "cell_type": "markdown",
      "metadata": {
        "id": "SjiolJKgiWV-"
      },
      "source": [
        "##### Q5. Write a program to that prompts the user to enter a string. Then check whether or not the string is a palindrome.\n",
        "\n",
        "```\n",
        "Enter a string: Madam\n",
        "Madam, is a palindrome!\n",
        "```"
      ]
    },
    {
      "cell_type": "code",
      "metadata": {
        "id": "F5_M934Ri0es",
        "colab": {
          "base_uri": "https://localhost:8080/"
        },
        "outputId": "0e34f77c-ea2d-47a3-eaac-7e5d84f9cd56"
      },
      "source": [
        "string = input(\"Enter a string: \")\r\n",
        "string = string.casefold()\r\n",
        "rev_string = reversed(string)\r\n",
        "if list(string) == list(rev_string):\r\n",
        "   print(\"The string is a palindrome.\")\r\n",
        "else:\r\n",
        "   print(\"The string is not a palindrome.\")"
      ],
      "execution_count": 105,
      "outputs": [
        {
          "output_type": "stream",
          "text": [
            "Enter a string: Mom\n",
            "The string is a palindrome.\n"
          ],
          "name": "stdout"
        }
      ]
    },
    {
      "cell_type": "markdown",
      "metadata": {
        "id": "BLBD6n9vkJEu"
      },
      "source": [
        "##### Q6. Write a program to compute and print all possible combinations of change for \\$1. Denominations to be considered – quarter, dime, nickel, penny.\n",
        "\n",
        "Hint: Use nested loops (loops within loops for the various denominations of coins)\n",
        "\n",
        "```\n",
        "Change for $1:\n",
        "0 quarters, 0 dimes, 0 nickels, 100 pennies\n",
        "…\n",
        "4 quarters, 0 dimes, 0 nickels, 0 pennies\n",
        "```"
      ]
    },
    {
      "cell_type": "code",
      "metadata": {
        "id": "kAQsTjwDkZZ5",
        "colab": {
          "base_uri": "https://localhost:8080/"
        },
        "outputId": "1e9e3b62-f584-4670-cdad-8905e006caa1"
      },
      "source": [
        "print(\"Change for $1:\")\r\n",
        "for quarter in range (0,5):\r\n",
        "  for dime in range (0,11):\r\n",
        "    for nickel in range(0,21):\r\n",
        "      for penny in range(0,101):\r\n",
        "        if ((quarter*25) + (dime*10) +(nickel*5) + (penny) ==100):\r\n",
        "          print(quarter, \"quarters\", dime, \"dimes\", nickel, \"nickels\", penny, \"pennies.\")"
      ],
      "execution_count": 207,
      "outputs": [
        {
          "output_type": "stream",
          "text": [
            "Change for $1:\n",
            "0 quarters 0 dimes 0 nickels 100 pennies.\n",
            "0 quarters 0 dimes 1 nickels 95 pennies.\n",
            "0 quarters 0 dimes 2 nickels 90 pennies.\n",
            "0 quarters 0 dimes 3 nickels 85 pennies.\n",
            "0 quarters 0 dimes 4 nickels 80 pennies.\n",
            "0 quarters 0 dimes 5 nickels 75 pennies.\n",
            "0 quarters 0 dimes 6 nickels 70 pennies.\n",
            "0 quarters 0 dimes 7 nickels 65 pennies.\n",
            "0 quarters 0 dimes 8 nickels 60 pennies.\n",
            "0 quarters 0 dimes 9 nickels 55 pennies.\n",
            "0 quarters 0 dimes 10 nickels 50 pennies.\n",
            "0 quarters 0 dimes 11 nickels 45 pennies.\n",
            "0 quarters 0 dimes 12 nickels 40 pennies.\n",
            "0 quarters 0 dimes 13 nickels 35 pennies.\n",
            "0 quarters 0 dimes 14 nickels 30 pennies.\n",
            "0 quarters 0 dimes 15 nickels 25 pennies.\n",
            "0 quarters 0 dimes 16 nickels 20 pennies.\n",
            "0 quarters 0 dimes 17 nickels 15 pennies.\n",
            "0 quarters 0 dimes 18 nickels 10 pennies.\n",
            "0 quarters 0 dimes 19 nickels 5 pennies.\n",
            "0 quarters 0 dimes 20 nickels 0 pennies.\n",
            "0 quarters 1 dimes 0 nickels 90 pennies.\n",
            "0 quarters 1 dimes 1 nickels 85 pennies.\n",
            "0 quarters 1 dimes 2 nickels 80 pennies.\n",
            "0 quarters 1 dimes 3 nickels 75 pennies.\n",
            "0 quarters 1 dimes 4 nickels 70 pennies.\n",
            "0 quarters 1 dimes 5 nickels 65 pennies.\n",
            "0 quarters 1 dimes 6 nickels 60 pennies.\n",
            "0 quarters 1 dimes 7 nickels 55 pennies.\n",
            "0 quarters 1 dimes 8 nickels 50 pennies.\n",
            "0 quarters 1 dimes 9 nickels 45 pennies.\n",
            "0 quarters 1 dimes 10 nickels 40 pennies.\n",
            "0 quarters 1 dimes 11 nickels 35 pennies.\n",
            "0 quarters 1 dimes 12 nickels 30 pennies.\n",
            "0 quarters 1 dimes 13 nickels 25 pennies.\n",
            "0 quarters 1 dimes 14 nickels 20 pennies.\n",
            "0 quarters 1 dimes 15 nickels 15 pennies.\n",
            "0 quarters 1 dimes 16 nickels 10 pennies.\n",
            "0 quarters 1 dimes 17 nickels 5 pennies.\n",
            "0 quarters 1 dimes 18 nickels 0 pennies.\n",
            "0 quarters 2 dimes 0 nickels 80 pennies.\n",
            "0 quarters 2 dimes 1 nickels 75 pennies.\n",
            "0 quarters 2 dimes 2 nickels 70 pennies.\n",
            "0 quarters 2 dimes 3 nickels 65 pennies.\n",
            "0 quarters 2 dimes 4 nickels 60 pennies.\n",
            "0 quarters 2 dimes 5 nickels 55 pennies.\n",
            "0 quarters 2 dimes 6 nickels 50 pennies.\n",
            "0 quarters 2 dimes 7 nickels 45 pennies.\n",
            "0 quarters 2 dimes 8 nickels 40 pennies.\n",
            "0 quarters 2 dimes 9 nickels 35 pennies.\n",
            "0 quarters 2 dimes 10 nickels 30 pennies.\n",
            "0 quarters 2 dimes 11 nickels 25 pennies.\n",
            "0 quarters 2 dimes 12 nickels 20 pennies.\n",
            "0 quarters 2 dimes 13 nickels 15 pennies.\n",
            "0 quarters 2 dimes 14 nickels 10 pennies.\n",
            "0 quarters 2 dimes 15 nickels 5 pennies.\n",
            "0 quarters 2 dimes 16 nickels 0 pennies.\n",
            "0 quarters 3 dimes 0 nickels 70 pennies.\n",
            "0 quarters 3 dimes 1 nickels 65 pennies.\n",
            "0 quarters 3 dimes 2 nickels 60 pennies.\n",
            "0 quarters 3 dimes 3 nickels 55 pennies.\n",
            "0 quarters 3 dimes 4 nickels 50 pennies.\n",
            "0 quarters 3 dimes 5 nickels 45 pennies.\n",
            "0 quarters 3 dimes 6 nickels 40 pennies.\n",
            "0 quarters 3 dimes 7 nickels 35 pennies.\n",
            "0 quarters 3 dimes 8 nickels 30 pennies.\n",
            "0 quarters 3 dimes 9 nickels 25 pennies.\n",
            "0 quarters 3 dimes 10 nickels 20 pennies.\n",
            "0 quarters 3 dimes 11 nickels 15 pennies.\n",
            "0 quarters 3 dimes 12 nickels 10 pennies.\n",
            "0 quarters 3 dimes 13 nickels 5 pennies.\n",
            "0 quarters 3 dimes 14 nickels 0 pennies.\n",
            "0 quarters 4 dimes 0 nickels 60 pennies.\n",
            "0 quarters 4 dimes 1 nickels 55 pennies.\n",
            "0 quarters 4 dimes 2 nickels 50 pennies.\n",
            "0 quarters 4 dimes 3 nickels 45 pennies.\n",
            "0 quarters 4 dimes 4 nickels 40 pennies.\n",
            "0 quarters 4 dimes 5 nickels 35 pennies.\n",
            "0 quarters 4 dimes 6 nickels 30 pennies.\n",
            "0 quarters 4 dimes 7 nickels 25 pennies.\n",
            "0 quarters 4 dimes 8 nickels 20 pennies.\n",
            "0 quarters 4 dimes 9 nickels 15 pennies.\n",
            "0 quarters 4 dimes 10 nickels 10 pennies.\n",
            "0 quarters 4 dimes 11 nickels 5 pennies.\n",
            "0 quarters 4 dimes 12 nickels 0 pennies.\n",
            "0 quarters 5 dimes 0 nickels 50 pennies.\n",
            "0 quarters 5 dimes 1 nickels 45 pennies.\n",
            "0 quarters 5 dimes 2 nickels 40 pennies.\n",
            "0 quarters 5 dimes 3 nickels 35 pennies.\n",
            "0 quarters 5 dimes 4 nickels 30 pennies.\n",
            "0 quarters 5 dimes 5 nickels 25 pennies.\n",
            "0 quarters 5 dimes 6 nickels 20 pennies.\n",
            "0 quarters 5 dimes 7 nickels 15 pennies.\n",
            "0 quarters 5 dimes 8 nickels 10 pennies.\n",
            "0 quarters 5 dimes 9 nickels 5 pennies.\n",
            "0 quarters 5 dimes 10 nickels 0 pennies.\n",
            "0 quarters 6 dimes 0 nickels 40 pennies.\n",
            "0 quarters 6 dimes 1 nickels 35 pennies.\n",
            "0 quarters 6 dimes 2 nickels 30 pennies.\n",
            "0 quarters 6 dimes 3 nickels 25 pennies.\n",
            "0 quarters 6 dimes 4 nickels 20 pennies.\n",
            "0 quarters 6 dimes 5 nickels 15 pennies.\n",
            "0 quarters 6 dimes 6 nickels 10 pennies.\n",
            "0 quarters 6 dimes 7 nickels 5 pennies.\n",
            "0 quarters 6 dimes 8 nickels 0 pennies.\n",
            "0 quarters 7 dimes 0 nickels 30 pennies.\n",
            "0 quarters 7 dimes 1 nickels 25 pennies.\n",
            "0 quarters 7 dimes 2 nickels 20 pennies.\n",
            "0 quarters 7 dimes 3 nickels 15 pennies.\n",
            "0 quarters 7 dimes 4 nickels 10 pennies.\n",
            "0 quarters 7 dimes 5 nickels 5 pennies.\n",
            "0 quarters 7 dimes 6 nickels 0 pennies.\n",
            "0 quarters 8 dimes 0 nickels 20 pennies.\n",
            "0 quarters 8 dimes 1 nickels 15 pennies.\n",
            "0 quarters 8 dimes 2 nickels 10 pennies.\n",
            "0 quarters 8 dimes 3 nickels 5 pennies.\n",
            "0 quarters 8 dimes 4 nickels 0 pennies.\n",
            "0 quarters 9 dimes 0 nickels 10 pennies.\n",
            "0 quarters 9 dimes 1 nickels 5 pennies.\n",
            "0 quarters 9 dimes 2 nickels 0 pennies.\n",
            "0 quarters 10 dimes 0 nickels 0 pennies.\n",
            "1 quarters 0 dimes 0 nickels 75 pennies.\n",
            "1 quarters 0 dimes 1 nickels 70 pennies.\n",
            "1 quarters 0 dimes 2 nickels 65 pennies.\n",
            "1 quarters 0 dimes 3 nickels 60 pennies.\n",
            "1 quarters 0 dimes 4 nickels 55 pennies.\n",
            "1 quarters 0 dimes 5 nickels 50 pennies.\n",
            "1 quarters 0 dimes 6 nickels 45 pennies.\n",
            "1 quarters 0 dimes 7 nickels 40 pennies.\n",
            "1 quarters 0 dimes 8 nickels 35 pennies.\n",
            "1 quarters 0 dimes 9 nickels 30 pennies.\n",
            "1 quarters 0 dimes 10 nickels 25 pennies.\n",
            "1 quarters 0 dimes 11 nickels 20 pennies.\n",
            "1 quarters 0 dimes 12 nickels 15 pennies.\n",
            "1 quarters 0 dimes 13 nickels 10 pennies.\n",
            "1 quarters 0 dimes 14 nickels 5 pennies.\n",
            "1 quarters 0 dimes 15 nickels 0 pennies.\n",
            "1 quarters 1 dimes 0 nickels 65 pennies.\n",
            "1 quarters 1 dimes 1 nickels 60 pennies.\n",
            "1 quarters 1 dimes 2 nickels 55 pennies.\n",
            "1 quarters 1 dimes 3 nickels 50 pennies.\n",
            "1 quarters 1 dimes 4 nickels 45 pennies.\n",
            "1 quarters 1 dimes 5 nickels 40 pennies.\n",
            "1 quarters 1 dimes 6 nickels 35 pennies.\n",
            "1 quarters 1 dimes 7 nickels 30 pennies.\n",
            "1 quarters 1 dimes 8 nickels 25 pennies.\n",
            "1 quarters 1 dimes 9 nickels 20 pennies.\n",
            "1 quarters 1 dimes 10 nickels 15 pennies.\n",
            "1 quarters 1 dimes 11 nickels 10 pennies.\n",
            "1 quarters 1 dimes 12 nickels 5 pennies.\n",
            "1 quarters 1 dimes 13 nickels 0 pennies.\n",
            "1 quarters 2 dimes 0 nickels 55 pennies.\n",
            "1 quarters 2 dimes 1 nickels 50 pennies.\n",
            "1 quarters 2 dimes 2 nickels 45 pennies.\n",
            "1 quarters 2 dimes 3 nickels 40 pennies.\n",
            "1 quarters 2 dimes 4 nickels 35 pennies.\n",
            "1 quarters 2 dimes 5 nickels 30 pennies.\n",
            "1 quarters 2 dimes 6 nickels 25 pennies.\n",
            "1 quarters 2 dimes 7 nickels 20 pennies.\n",
            "1 quarters 2 dimes 8 nickels 15 pennies.\n",
            "1 quarters 2 dimes 9 nickels 10 pennies.\n",
            "1 quarters 2 dimes 10 nickels 5 pennies.\n",
            "1 quarters 2 dimes 11 nickels 0 pennies.\n",
            "1 quarters 3 dimes 0 nickels 45 pennies.\n",
            "1 quarters 3 dimes 1 nickels 40 pennies.\n",
            "1 quarters 3 dimes 2 nickels 35 pennies.\n",
            "1 quarters 3 dimes 3 nickels 30 pennies.\n",
            "1 quarters 3 dimes 4 nickels 25 pennies.\n",
            "1 quarters 3 dimes 5 nickels 20 pennies.\n",
            "1 quarters 3 dimes 6 nickels 15 pennies.\n",
            "1 quarters 3 dimes 7 nickels 10 pennies.\n",
            "1 quarters 3 dimes 8 nickels 5 pennies.\n",
            "1 quarters 3 dimes 9 nickels 0 pennies.\n",
            "1 quarters 4 dimes 0 nickels 35 pennies.\n",
            "1 quarters 4 dimes 1 nickels 30 pennies.\n",
            "1 quarters 4 dimes 2 nickels 25 pennies.\n",
            "1 quarters 4 dimes 3 nickels 20 pennies.\n",
            "1 quarters 4 dimes 4 nickels 15 pennies.\n",
            "1 quarters 4 dimes 5 nickels 10 pennies.\n",
            "1 quarters 4 dimes 6 nickels 5 pennies.\n",
            "1 quarters 4 dimes 7 nickels 0 pennies.\n",
            "1 quarters 5 dimes 0 nickels 25 pennies.\n",
            "1 quarters 5 dimes 1 nickels 20 pennies.\n",
            "1 quarters 5 dimes 2 nickels 15 pennies.\n",
            "1 quarters 5 dimes 3 nickels 10 pennies.\n",
            "1 quarters 5 dimes 4 nickels 5 pennies.\n",
            "1 quarters 5 dimes 5 nickels 0 pennies.\n",
            "1 quarters 6 dimes 0 nickels 15 pennies.\n",
            "1 quarters 6 dimes 1 nickels 10 pennies.\n",
            "1 quarters 6 dimes 2 nickels 5 pennies.\n",
            "1 quarters 6 dimes 3 nickels 0 pennies.\n",
            "1 quarters 7 dimes 0 nickels 5 pennies.\n",
            "1 quarters 7 dimes 1 nickels 0 pennies.\n",
            "2 quarters 0 dimes 0 nickels 50 pennies.\n",
            "2 quarters 0 dimes 1 nickels 45 pennies.\n",
            "2 quarters 0 dimes 2 nickels 40 pennies.\n",
            "2 quarters 0 dimes 3 nickels 35 pennies.\n",
            "2 quarters 0 dimes 4 nickels 30 pennies.\n",
            "2 quarters 0 dimes 5 nickels 25 pennies.\n",
            "2 quarters 0 dimes 6 nickels 20 pennies.\n",
            "2 quarters 0 dimes 7 nickels 15 pennies.\n",
            "2 quarters 0 dimes 8 nickels 10 pennies.\n",
            "2 quarters 0 dimes 9 nickels 5 pennies.\n",
            "2 quarters 0 dimes 10 nickels 0 pennies.\n",
            "2 quarters 1 dimes 0 nickels 40 pennies.\n",
            "2 quarters 1 dimes 1 nickels 35 pennies.\n",
            "2 quarters 1 dimes 2 nickels 30 pennies.\n",
            "2 quarters 1 dimes 3 nickels 25 pennies.\n",
            "2 quarters 1 dimes 4 nickels 20 pennies.\n",
            "2 quarters 1 dimes 5 nickels 15 pennies.\n",
            "2 quarters 1 dimes 6 nickels 10 pennies.\n",
            "2 quarters 1 dimes 7 nickels 5 pennies.\n",
            "2 quarters 1 dimes 8 nickels 0 pennies.\n",
            "2 quarters 2 dimes 0 nickels 30 pennies.\n",
            "2 quarters 2 dimes 1 nickels 25 pennies.\n",
            "2 quarters 2 dimes 2 nickels 20 pennies.\n",
            "2 quarters 2 dimes 3 nickels 15 pennies.\n",
            "2 quarters 2 dimes 4 nickels 10 pennies.\n",
            "2 quarters 2 dimes 5 nickels 5 pennies.\n",
            "2 quarters 2 dimes 6 nickels 0 pennies.\n",
            "2 quarters 3 dimes 0 nickels 20 pennies.\n",
            "2 quarters 3 dimes 1 nickels 15 pennies.\n",
            "2 quarters 3 dimes 2 nickels 10 pennies.\n",
            "2 quarters 3 dimes 3 nickels 5 pennies.\n",
            "2 quarters 3 dimes 4 nickels 0 pennies.\n",
            "2 quarters 4 dimes 0 nickels 10 pennies.\n",
            "2 quarters 4 dimes 1 nickels 5 pennies.\n",
            "2 quarters 4 dimes 2 nickels 0 pennies.\n",
            "2 quarters 5 dimes 0 nickels 0 pennies.\n",
            "3 quarters 0 dimes 0 nickels 25 pennies.\n",
            "3 quarters 0 dimes 1 nickels 20 pennies.\n",
            "3 quarters 0 dimes 2 nickels 15 pennies.\n",
            "3 quarters 0 dimes 3 nickels 10 pennies.\n",
            "3 quarters 0 dimes 4 nickels 5 pennies.\n",
            "3 quarters 0 dimes 5 nickels 0 pennies.\n",
            "3 quarters 1 dimes 0 nickels 15 pennies.\n",
            "3 quarters 1 dimes 1 nickels 10 pennies.\n",
            "3 quarters 1 dimes 2 nickels 5 pennies.\n",
            "3 quarters 1 dimes 3 nickels 0 pennies.\n",
            "3 quarters 2 dimes 0 nickels 5 pennies.\n",
            "3 quarters 2 dimes 1 nickels 0 pennies.\n",
            "4 quarters 0 dimes 0 nickels 0 pennies.\n"
          ],
          "name": "stdout"
        }
      ]
    },
    {
      "cell_type": "markdown",
      "metadata": {
        "id": "rUPDjYiIkbgs"
      },
      "source": [
        "##### Q7. Ask the user to enter two positive integers between 1 and 100. Read those integers. Then output a multiplication table of the first number times the second number. \n",
        "\n",
        "Note: You have to ensure the entered numbers are between 1 and 100 only.\n",
        "\n",
        "```\n",
        "Please enter an integer: 5\n",
        "Please enter another integer: 20\n",
        "5 x 1 = 5\n",
        "5 x 2 = 10\n",
        "5 x 3 = 15\n",
        "…\n",
        "5 x 20 = 100\n",
        "```"
      ]
    },
    {
      "cell_type": "code",
      "metadata": {
        "id": "Qg0Orv1klHzA",
        "colab": {
          "base_uri": "https://localhost:8080/"
        },
        "outputId": "0e75b0d3-4124-40e0-90f6-7134b46d12a5"
      },
      "source": [
        "num1 = int(input(\"Please enter a postive integer between 1 and 100: \"))\r\n",
        "num2 = int(input(\"Please enter another postive integer between 1 and 100: \"))\r\n",
        "for i in range(1, num2+1):\r\n",
        "  print(num1, \"x\", i, \"=\", num1*i)"
      ],
      "execution_count": 192,
      "outputs": [
        {
          "output_type": "stream",
          "text": [
            "Please enter a postive integer between 1 and 100: 5\n",
            "Please enter another postive integer between 1 and 100: 20\n",
            "5 x 1 = 5\n",
            "5 x 2 = 10\n",
            "5 x 3 = 15\n",
            "5 x 4 = 20\n",
            "5 x 5 = 25\n",
            "5 x 6 = 30\n",
            "5 x 7 = 35\n",
            "5 x 8 = 40\n",
            "5 x 9 = 45\n",
            "5 x 10 = 50\n",
            "5 x 11 = 55\n",
            "5 x 12 = 60\n",
            "5 x 13 = 65\n",
            "5 x 14 = 70\n",
            "5 x 15 = 75\n",
            "5 x 16 = 80\n",
            "5 x 17 = 85\n",
            "5 x 18 = 90\n",
            "5 x 19 = 95\n",
            "5 x 20 = 100\n"
          ],
          "name": "stdout"
        }
      ]
    },
    {
      "cell_type": "markdown",
      "metadata": {
        "id": "SbnbPUPTlLD9"
      },
      "source": [
        "##### Q8. Write a program to ask the user to enter a password. Then check to see if it is a valid password based on these requirements -\n",
        "\n",
        "Must be at least 8 characters long\n",
        "\n",
        "Must contain both uppercase and lowercase letters\n",
        "\n",
        "Must contain at least one number between 0-9\n",
        "\n",
        "Must contain a special character -!,@,#,$\n",
        "\n",
        "If the password is not valid, ask the user to re-enter. This should continue until the user enters a valid password. After a valid password is entered, print Access Granted!\n",
        "\n",
        "```\n",
        "Please enter a password. Follow these requirements - \n",
        "a. Must be at least 8 characters long\n",
        "b. Must contain both uppercase and lowercase letters\n",
        "c. Must contain at least one number between 0-9\n",
        "d. Must contain a special character -!,@,#,$\n",
        "Password: HelloWorld1\n",
        "Invalid password. Try again!\n",
        "Password: Hello@World1\n",
        "Access Granted!\n",
        "```\n"
      ]
    },
    {
      "cell_type": "code",
      "metadata": {
        "id": "Q159Av-K1n_c"
      },
      "source": [
        "\r\n"
      ],
      "execution_count": null,
      "outputs": []
    },
    {
      "cell_type": "code",
      "metadata": {
        "id": "OXmZ177Rl-RV",
        "colab": {
          "base_uri": "https://localhost:8080/"
        },
        "outputId": "67d959c2-f95f-47c2-9a9c-2790b87423be"
      },
      "source": [
        "while(True): \r\n",
        "  password= input(\"\\nPlease enter a password follwoing these requirements: :\\n\\ta. Must be at least 8 characters long\\n\\tb. Must contain both uppercase and lowercase letters\\n\\tc. Must contain at least one number between 0-9\\n\\td. Must contain a special character -!,@,#,$\\nPlease enter a password here:\")\r\n",
        "  if (len(password)<8): \r\n",
        "    print(\"Invalid Password. Try again!\")\r\n",
        "    print(\"The password must have atleast 8 characters.\")\r\n",
        "  elif not any(s.isupper() for s in password): \r\n",
        "    print(\"Invalid Password. Try again!\")\r\n",
        "    print(\"The password must contain atleast one uppercase letter.\")\r\n",
        "  elif not any(s.islower() for s in password): \r\n",
        "    print(\"Invalid Password. Try again!\")\r\n",
        "    print(\"The password must contain atleast one lowercase letter.\")\r\n",
        "  elif not any(s.isdigit() for s in password):\r\n",
        "    print(\"Invalid Password. Try again!\")\r\n",
        "    print(\"The password must contain atleast one digit.\")\r\n",
        "  elif not any(not s.isalnum() for s in password): \r\n",
        "    print(\"Invalid Password. Try again!\")\r\n",
        "    print(\"The password must contain atleast one special character.\")\r\n",
        "  else: \r\n",
        "    print(\"Access granted!\")\r\n",
        "    break\r\n",
        "\r\n",
        "\r\n",
        "\r\n"
      ],
      "execution_count": 239,
      "outputs": [
        {
          "output_type": "stream",
          "text": [
            "\n",
            "Please enter a password follwoing these requirements: :\n",
            "\ta. Must be at least 8 characters long\n",
            "\tb. Must contain both uppercase and lowercase letters\n",
            "\tc. Must contain at least one number between 0-9\n",
            "\td. Must contain a special character -!,@,#,$\n",
            "Please enter a password here:Kabkar172@\n",
            "Access granted!\n"
          ],
          "name": "stdout"
        }
      ]
    },
    {
      "cell_type": "markdown",
      "metadata": {
        "id": "-0sdutTDnTKA"
      },
      "source": [
        "##### Q9. Given the score sheet of participants in a competition, you are required to find the runner-up score. You are given scores in a list. Find the score of the runner-up.\n",
        "\n",
        "```\n",
        "list1 - [2, 3, 6, 6, 5]\n",
        "runner_up - 5\n",
        "\n",
        "list2 - [1, 7, 5, 3, 10, 4, 5, 5, 6, 11]\n",
        "runner_up - 10\n",
        "```"
      ]
    },
    {
      "cell_type": "code",
      "metadata": {
        "id": "12YP9OaqpGRK",
        "colab": {
          "base_uri": "https://localhost:8080/"
        },
        "outputId": "91766351-f08b-409a-8894-4bd1fed1880c"
      },
      "source": [
        "def runnerUp(listOfScores):\r\n",
        "  newScores = set(listOfScores)\r\n",
        "  newScores.remove(max(newScores))\r\n",
        "  print(\"runner_up - \", max(newScores))\r\n",
        "\r\n",
        "if __name__ == \"__main__\":\r\n",
        "  list1 = [2,3,6,6,5]\r\n",
        "  print(\"list 1 - \", list1)\r\n",
        "  runnerUp(list1)\r\n",
        "  list2 = [1,7,5,3,10,4,5,5,6,11]\r\n",
        "  print(\"list 2 - \", list2)\r\n",
        "  runnerUp(list2)"
      ],
      "execution_count": 210,
      "outputs": [
        {
          "output_type": "stream",
          "text": [
            "list 1 -  [2, 3, 6, 6, 5]\n",
            "runner_up -  5\n",
            "list 2 -  [1, 7, 5, 3, 10, 4, 5, 5, 6, 11]\n",
            "runner_up -  10\n"
          ],
          "name": "stdout"
        }
      ]
    }
  ]
}
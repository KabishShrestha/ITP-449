{
  "nbformat": 4,
  "nbformat_minor": 0,
  "metadata": {
    "colab": {
      "name": "HW2_Bade Shrestha_Kabish Chandra.ipynb",
      "provenance": [],
      "collapsed_sections": []
    },
    "kernelspec": {
      "name": "python3",
      "display_name": "Python 3"
    }
  },
  "cells": [
    {
      "cell_type": "markdown",
      "metadata": {
        "id": "bNsIruOzI4iF"
      },
      "source": [
        "## **Homework 2**\n",
        "\n",
        "### Create a copy of the notebook to start answering the questions. Name your notebook in the format HW2_lastname_firstname.ipynb to facilitate the grading process. \n",
        "\n",
        "### Answer all the questions, test your code to ensure there are no errors and the results are as expected. Once you have answered all the questions, save the final copy, then go to File-> click on Download.ipynb. Once the local copy has been downloaded, submit your file on Blackboard under the corresponding assignment section. Also provide us a link to your notebook during submission. \n",
        "\n",
        "### **The due date of this homework is 02/12/2021 (Friday).**\n",
        "\n",
        "### Please ensure you follow all the steps mentioned in the homework.\n",
        "\n",
        "### All the questions have a sample input and output to help you understand the question.\n",
        "\n",
        "### You can submit your solutions any number of times until the deadline.\n"
      ]
    },
    {
      "cell_type": "markdown",
      "metadata": {
        "id": "U3Yz3s2uio1F"
      },
      "source": [
        "**Q1. Lets consider your data is like the below cell:**\n",
        "\n",
        "**Q1-1**: Write a program that create a dataframe from the data.\n",
        "\n",
        "**Q1-2:** Select people that are psychologist or teacher and their number of cars is greater than their family size.\n",
        "\n",
        "**Q1-3:** Select people who have at most 2 family members and at least 1 car.\n",
        "\n",
        "**Q1-4:** Write a code that get number of unique jobs in this dataset.\n",
        "\n",
        "\n",
        "\n"
      ]
    },
    {
      "cell_type": "code",
      "metadata": {
        "id": "yR8lcOtcjxXD"
      },
      "source": [
        "data = {\"name\": [\"Joseph\", \"Jacob\", \"Sam\", \"Jesee\", \"Ryan\", \"Lisa\", \"Lee\"],\n",
        "        \"job\": [\"teacher\", \"psychologist\", \"data scientist\", \"software developer\", \"psychologist\", \"psychologist\", \"teacher\"],\n",
        "        \"family_size\": [3, 2, 1, 4, 2, 3, 2],\n",
        "        \"num_cars\": [3, 1, 1, 2, 2, 4, 1]}"
      ],
      "execution_count": null,
      "outputs": []
    },
    {
      "cell_type": "code",
      "metadata": {
        "id": "Youi5qMaP34p",
        "colab": {
          "base_uri": "https://localhost:8080/"
        },
        "outputId": "9fcbe6ba-0f7e-4601-82a3-ce8649f6f713"
      },
      "source": [
        "#Q1\r\n",
        "import pandas as pd\r\n",
        "data = {\"name\": [\"Joseph\", \"Jacob\", \"Sam\", \"Jesee\", \"Ryan\", \"Lisa\", \"Lee\"],\r\n",
        "        \"job\": [\"teacher\", \"psychologist\", \"data scientist\", \"software developer\", \"psychologist\", \"psychologist\", \"teacher\"],\r\n",
        "        \"family_size\": [3, 2, 1, 4, 2, 3, 2],\r\n",
        "        \"num_cars\": [3, 1, 1, 2, 2, 4, 1]}\r\n",
        "\r\n",
        "#Q1 - 1 \r\n",
        "names = pd.DataFrame(data)\r\n",
        "print (\"Here is a dataframe for our Data:\\n\",names)\r\n",
        "\r\n",
        "#Q1 - 2\r\n",
        "\r\n",
        "cond_psych = names [\"job\"]  ==  \"psychologist\"\r\n",
        "cond_teach = names[\"job\"] == \"teacher\"\r\n",
        "cond_cars = names[\"num_cars\"] > names[\"family_size\"]\r\n",
        "\r\n",
        "question2 = names.loc[(cond_psych | cond_teach) & cond_cars]\r\n",
        "print(\"\\nHere is a list of people that are either psychologists or teachers\\n and their number of cars is greater than their family size:\\n \",question2, \"\\n\")\r\n",
        "\r\n",
        "#Q1 - 3\r\n",
        "fam_size = names[\"family_size\"] <= 2\r\n",
        "num_cars = names[\"num_cars\"] >= 1\r\n",
        "\r\n",
        "question3 = names.loc[fam_size & num_cars]\r\n",
        "print(\"\\nHere is a list of people who have at most 2 family members and at least 1 car:\\n\", question3, \"\\n\")\r\n",
        "\r\n",
        "#Q1 - 4\r\n",
        "no_dupe = names.loc[:, \"job\"].drop_duplicates()\r\n",
        "print(\"Here is a list of all the unique jobs in this dataset:\\n\",no_dupe)\r\n"
      ],
      "execution_count": null,
      "outputs": [
        {
          "output_type": "stream",
          "text": [
            "Here is a dataframe for our Data:\n",
            "      name                 job  family_size  num_cars\n",
            "0  Joseph             teacher            3         3\n",
            "1   Jacob        psychologist            2         1\n",
            "2     Sam      data scientist            1         1\n",
            "3   Jesee  software developer            4         2\n",
            "4    Ryan        psychologist            2         2\n",
            "5    Lisa        psychologist            3         4\n",
            "6     Lee             teacher            2         1\n",
            "\n",
            "Here is a list of people that are either psychologists or teachers\n",
            " and their number of cars is greater than their family size:\n",
            "     name           job  family_size  num_cars\n",
            "5  Lisa  psychologist            3         4 \n",
            "\n",
            "\n",
            "Here is a list of people who have at most 2 family members and at least 1 car:\n",
            "     name             job  family_size  num_cars\n",
            "1  Jacob    psychologist            2         1\n",
            "2    Sam  data scientist            1         1\n",
            "4   Ryan    psychologist            2         2\n",
            "6    Lee         teacher            2         1 \n",
            "\n",
            "Here is a list of all the unique jobs in this dataset:\n",
            " 0               teacher\n",
            "1          psychologist\n",
            "2        data scientist\n",
            "3    software developer\n",
            "Name: job, dtype: object\n"
          ],
          "name": "stdout"
        }
      ]
    },
    {
      "cell_type": "markdown",
      "metadata": {
        "id": "Ow6nG8k4l91X"
      },
      "source": [
        "**Q2. Lets consider you have two series like the below cell. Compute the mean of weights of each fruit.**"
      ]
    },
    {
      "cell_type": "code",
      "metadata": {
        "id": "u-X_DoOzVLLB"
      },
      "source": [
        "import numpy as np\n",
        "fruit = pd.Series(np.random.choice(['apple', 'banana', 'carrot'], 10))\n",
        "weights = pd.Series(np.linspace(1, 10, 10))"
      ],
      "execution_count": null,
      "outputs": []
    },
    {
      "cell_type": "code",
      "metadata": {
        "id": "S419nzYnpU__",
        "colab": {
          "base_uri": "https://localhost:8080/"
        },
        "outputId": "1d48f15d-a343-498a-9675-cf9cab6cbbf6"
      },
      "source": [
        "# Q2\r\n",
        "\r\n",
        "import pandas as pd\r\n",
        "import numpy as np\r\n",
        "\r\n",
        "fruit = pd.Series(np.random.choice(['apple', 'banana', 'carrot'], 10))\r\n",
        "weights = pd.Series(np.linspace(1, 10, 10))\r\n",
        "\r\n",
        "df = pd.DataFrame({\"Fruits\": fruit, \"Weights\": weights})\r\n",
        "df_mean = df.groupby(\"Fruits\").mean()\r\n",
        "print(df_mean)\r\n"
      ],
      "execution_count": null,
      "outputs": [
        {
          "output_type": "stream",
          "text": [
            "        Weights\n",
            "Fruits         \n",
            "apple       6.5\n",
            "banana      5.2\n",
            "carrot      3.0\n"
          ],
          "name": "stdout"
        }
      ]
    },
    {
      "cell_type": "markdown",
      "metadata": {
        "id": "g4lKaPIhtVrt"
      },
      "source": [
        "**Q3. Consider the below course_name array:**\n",
        "\n",
        "**Q3-1**: Write a NumPy program to get the indices of the sorted elements of **course_name** array.\n",
        "\n",
        "**Q3-2:** Write numpy code to check whether each element of **course_name** array starts with \"P\".\n"
      ]
    },
    {
      "cell_type": "code",
      "metadata": {
        "id": "RUP_jp2KtVrx"
      },
      "source": [
        "import numpy as np\n",
        "course_name = np.array(['Python', 'JS', 'examples', 'PHP', 'html'])"
      ],
      "execution_count": null,
      "outputs": []
    },
    {
      "cell_type": "code",
      "metadata": {
        "id": "U1i27POxv-o_",
        "colab": {
          "base_uri": "https://localhost:8080/"
        },
        "outputId": "a2b6a758-42a3-482c-93b4-ee31cb834ca4"
      },
      "source": [
        "# Q3\r\n",
        "\r\n",
        "import numpy as np\r\n",
        "course_name = np.array(['Python', 'JS', 'examples', 'PHP', 'html'])\r\n",
        "\r\n",
        "# Q3-1.\r\n",
        "i = np.argsort(course_name)\r\n",
        "print(\"Indices of the sorted elements of course_name array: \")\r\n",
        "print(i, \"\\n\")\r\n",
        "\r\n",
        "# Q3-2\r\n",
        "print(np.char.startswith(course_name, \"P\"))"
      ],
      "execution_count": null,
      "outputs": [
        {
          "output_type": "stream",
          "text": [
            "Indices of the sorted elements of course_name array: \n",
            "[1 3 0 2 4] \n",
            "\n",
            "[ True False False  True False]\n"
          ],
          "name": "stdout"
        }
      ]
    },
    {
      "cell_type": "markdown",
      "metadata": {
        "id": "sUFItNFOxwkz"
      },
      "source": [
        "**Q4. Consider the below student_id array:**\n",
        "\n",
        "**Q4-1:** Reverse the **student_id** array. Print both original and reversed array.\n",
        "\n",
        "**Q4-2:** Get the 3-largest values of **student_id** array."
      ]
    },
    {
      "cell_type": "code",
      "metadata": {
        "id": "Rl5qzEjFv0nw"
      },
      "source": [
        "import numpy as np\n",
        "student_id = np.array([1023, 5202, 6230, 1671, 1682, 5241, 4532])"
      ],
      "execution_count": null,
      "outputs": []
    },
    {
      "cell_type": "code",
      "metadata": {
        "id": "EetvHGrUxMCC",
        "colab": {
          "base_uri": "https://localhost:8080/"
        },
        "outputId": "23a9ad42-688a-40c7-c1f3-a887af2a8cc7"
      },
      "source": [
        "#Q4\r\n",
        "\r\n",
        "import numpy as np\r\n",
        "\r\n",
        "student_id = np.array([1023, 5202, 6230, 1671, 1682, 5241, 4532])\r\n",
        "\r\n",
        "# Q4-1\r\n",
        "print(\"Orignal Array:\",student_id)\r\n",
        "print(\"Reversed Array:\",student_id[::-1])\r\n",
        "\r\n",
        "# Q4-2\r\n",
        "sorted_students = np.sort(student_id)\r\n",
        "print(\"3 of the largest values:\",sorted_students[-3:])"
      ],
      "execution_count": null,
      "outputs": [
        {
          "output_type": "stream",
          "text": [
            "Orignal Array: [1023 5202 6230 1671 1682 5241 4532]\n",
            "Reversed Array: [4532 5241 1682 1671 6230 5202 1023]\n",
            "3 of the largest values: [5202 5241 6230]\n"
          ],
          "name": "stdout"
        }
      ]
    },
    {
      "cell_type": "markdown",
      "metadata": {
        "id": "uKRyDVuW6B19"
      },
      "source": [
        "# **Q5: Write a numpy program to print sum of all the multiples of 3 or 5 below 100**"
      ]
    },
    {
      "cell_type": "code",
      "metadata": {
        "id": "ZIixq1gz6OK3",
        "colab": {
          "base_uri": "https://localhost:8080/"
        },
        "outputId": "d741f155-61b6-4393-c755-278d322dc9dd"
      },
      "source": [
        "import numpy as np\n",
        "\n",
        "x = np.arange(1, 100)\n",
        "n =(x[(x % 3 == 0) | (x % 5 == 0)])\n",
        "print(\"Here are all the multiples of 3 and 5 under 100:\\n\",n[:])\n",
        "print(\"\\nHere is the sum of all the numbers listed ablove:\\n\",n.sum())"
      ],
      "execution_count": 12,
      "outputs": [
        {
          "output_type": "stream",
          "text": [
            "Here are all the multiples of 3 and 5 under 100:\n",
            " [ 3  5  6  9 10 12 15 18 20 21 24 25 27 30 33 35 36 39 40 42 45 48 50 51\n",
            " 54 55 57 60 63 65 66 69 70 72 75 78 80 81 84 85 87 90 93 95 96 99]\n",
            "\n",
            "Here is the sum of all the numbers listed ablove:\n",
            " 2318\n"
          ],
          "name": "stdout"
        }
      ]
    },
    {
      "cell_type": "markdown",
      "metadata": {
        "id": "2CWJOsP24c34"
      },
      "source": [
        "**Q6. Consider the below array.**\n",
        "\n",
        "Q6.1. Write a code to swap column 1 with column 2.\n",
        "\n",
        "Q6.2. Write a code to swap row 0 with row 1."
      ]
    },
    {
      "cell_type": "code",
      "metadata": {
        "id": "3OG6X5Eg5KSM"
      },
      "source": [
        "import numpy as np\n",
        "\n",
        "arr = np.arange(12).reshape(3,4)\n",
        "print(arr)"
      ],
      "execution_count": null,
      "outputs": []
    },
    {
      "cell_type": "code",
      "metadata": {
        "id": "Q-Q91DpO5YYW",
        "colab": {
          "base_uri": "https://localhost:8080/"
        },
        "outputId": "d1714bb7-84e0-48e3-f9a2-7b2fae15f024"
      },
      "source": [
        "import numpy as np\r\n",
        "\r\n",
        "# Q6\r\n",
        "arr = np.arange(12).reshape(3,4)\r\n",
        "print(\"Orignal Array:\\n\",arr, \"\\n\")\r\n",
        "\r\n",
        "# Q6 -1\r\n",
        "column = arr[:, [1]]\r\n",
        "arr[:, [1]] = arr[:, [2]]\r\n",
        "arr[:, [2]] = column\r\n",
        "print(\"Swapped Column 1 with 2:\\n\",arr, \"\\n\")\r\n",
        "\r\n",
        "# Q6\r\n",
        "row = arr[[0], :]\r\n",
        "arr[[0], :] = arr[[1], :]\r\n",
        "arr[[1], :] = row\r\n",
        "print(\"Swapped Row 0 with 1:\\n\",arr,\"\\n\")\r\n",
        "\r\n",
        "print(\"Note: Columns and Rows start from 0\")"
      ],
      "execution_count": 2,
      "outputs": [
        {
          "output_type": "stream",
          "text": [
            "Orignal Array:\n",
            " [[ 0  1  2  3]\n",
            " [ 4  5  6  7]\n",
            " [ 8  9 10 11]] \n",
            "\n",
            "Swapped Column 1 with 2:\n",
            " [[ 0  2  1  3]\n",
            " [ 4  6  5  7]\n",
            " [ 8 10  9 11]] \n",
            "\n",
            "Swapped Row 0 with 1:\n",
            " [[ 4  6  5  7]\n",
            " [ 0  2  1  3]\n",
            " [ 8 10  9 11]] \n",
            "\n",
            "Note: Columns and Rows start from 0\n"
          ],
          "name": "stdout"
        }
      ]
    }
  ]
}